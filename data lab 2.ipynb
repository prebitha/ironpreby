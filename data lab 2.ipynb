{
 "cells": [
  {
   "cell_type": "code",
   "execution_count": 1,
   "id": "canadian-heaven",
   "metadata": {},
   "outputs": [],
   "source": [
    "import pandas as pd"
   ]
  },
  {
   "cell_type": "code",
   "execution_count": 2,
   "id": "critical-wellington",
   "metadata": {},
   "outputs": [],
   "source": [
    "import numpy as np"
   ]
  },
  {
   "cell_type": "code",
   "execution_count": 3,
   "id": "banned-content",
   "metadata": {},
   "outputs": [],
   "source": [
    "file1=pd.read_csv(\"file1.csv\")"
   ]
  },
  {
   "cell_type": "code",
   "execution_count": 4,
   "id": "biblical-store",
   "metadata": {},
   "outputs": [
    {
     "data": {
      "text/html": [
       "<div>\n",
       "<style scoped>\n",
       "    .dataframe tbody tr th:only-of-type {\n",
       "        vertical-align: middle;\n",
       "    }\n",
       "\n",
       "    .dataframe tbody tr th {\n",
       "        vertical-align: top;\n",
       "    }\n",
       "\n",
       "    .dataframe thead th {\n",
       "        text-align: right;\n",
       "    }\n",
       "</style>\n",
       "<table border=\"1\" class=\"dataframe\">\n",
       "  <thead>\n",
       "    <tr style=\"text-align: right;\">\n",
       "      <th></th>\n",
       "    </tr>\n",
       "  </thead>\n",
       "  <tbody>\n",
       "  </tbody>\n",
       "</table>\n",
       "</div>"
      ],
      "text/plain": [
       "Empty DataFrame\n",
       "Columns: []\n",
       "Index: []"
      ]
     },
     "execution_count": 4,
     "metadata": {},
     "output_type": "execute_result"
    }
   ],
   "source": [
    "df=pd.DataFrame()\n",
    "df.head(5)"
   ]
  },
  {
   "cell_type": "code",
   "execution_count": 5,
   "id": "hungry-lodge",
   "metadata": {},
   "outputs": [
    {
     "data": {
      "text/html": [
       "<div>\n",
       "<style scoped>\n",
       "    .dataframe tbody tr th:only-of-type {\n",
       "        vertical-align: middle;\n",
       "    }\n",
       "\n",
       "    .dataframe tbody tr th {\n",
       "        vertical-align: top;\n",
       "    }\n",
       "\n",
       "    .dataframe thead th {\n",
       "        text-align: right;\n",
       "    }\n",
       "</style>\n",
       "<table border=\"1\" class=\"dataframe\">\n",
       "  <thead>\n",
       "    <tr style=\"text-align: right;\">\n",
       "      <th></th>\n",
       "      <th>Customer</th>\n",
       "      <th>ST</th>\n",
       "      <th>GENDER</th>\n",
       "      <th>Education</th>\n",
       "      <th>Customer Lifetime Value</th>\n",
       "      <th>Income</th>\n",
       "      <th>Monthly Premium Auto</th>\n",
       "      <th>Number of Open Complaints</th>\n",
       "      <th>Policy Type</th>\n",
       "      <th>Vehicle Class</th>\n",
       "      <th>Total Claim Amount</th>\n",
       "    </tr>\n",
       "  </thead>\n",
       "  <tbody>\n",
       "    <tr>\n",
       "      <th>count</th>\n",
       "      <td>1071</td>\n",
       "      <td>1071</td>\n",
       "      <td>954</td>\n",
       "      <td>1071</td>\n",
       "      <td>1068</td>\n",
       "      <td>1071.000000</td>\n",
       "      <td>1071.000000</td>\n",
       "      <td>1071</td>\n",
       "      <td>1071</td>\n",
       "      <td>1071</td>\n",
       "      <td>1071.000000</td>\n",
       "    </tr>\n",
       "    <tr>\n",
       "      <th>unique</th>\n",
       "      <td>1071</td>\n",
       "      <td>8</td>\n",
       "      <td>5</td>\n",
       "      <td>6</td>\n",
       "      <td>1027</td>\n",
       "      <td>NaN</td>\n",
       "      <td>NaN</td>\n",
       "      <td>6</td>\n",
       "      <td>3</td>\n",
       "      <td>6</td>\n",
       "      <td>NaN</td>\n",
       "    </tr>\n",
       "    <tr>\n",
       "      <th>top</th>\n",
       "      <td>LN26837</td>\n",
       "      <td>Oregon</td>\n",
       "      <td>F</td>\n",
       "      <td>Bachelor</td>\n",
       "      <td>445811.34%</td>\n",
       "      <td>NaN</td>\n",
       "      <td>NaN</td>\n",
       "      <td>1/0/00</td>\n",
       "      <td>Personal Auto</td>\n",
       "      <td>Four-Door Car</td>\n",
       "      <td>NaN</td>\n",
       "    </tr>\n",
       "    <tr>\n",
       "      <th>freq</th>\n",
       "      <td>1</td>\n",
       "      <td>320</td>\n",
       "      <td>457</td>\n",
       "      <td>324</td>\n",
       "      <td>4</td>\n",
       "      <td>NaN</td>\n",
       "      <td>NaN</td>\n",
       "      <td>830</td>\n",
       "      <td>780</td>\n",
       "      <td>576</td>\n",
       "      <td>NaN</td>\n",
       "    </tr>\n",
       "    <tr>\n",
       "      <th>mean</th>\n",
       "      <td>NaN</td>\n",
       "      <td>NaN</td>\n",
       "      <td>NaN</td>\n",
       "      <td>NaN</td>\n",
       "      <td>NaN</td>\n",
       "      <td>39295.701214</td>\n",
       "      <td>193.234360</td>\n",
       "      <td>NaN</td>\n",
       "      <td>NaN</td>\n",
       "      <td>NaN</td>\n",
       "      <td>404.986909</td>\n",
       "    </tr>\n",
       "    <tr>\n",
       "      <th>std</th>\n",
       "      <td>NaN</td>\n",
       "      <td>NaN</td>\n",
       "      <td>NaN</td>\n",
       "      <td>NaN</td>\n",
       "      <td>NaN</td>\n",
       "      <td>30469.427060</td>\n",
       "      <td>1601.190369</td>\n",
       "      <td>NaN</td>\n",
       "      <td>NaN</td>\n",
       "      <td>NaN</td>\n",
       "      <td>293.027260</td>\n",
       "    </tr>\n",
       "    <tr>\n",
       "      <th>min</th>\n",
       "      <td>NaN</td>\n",
       "      <td>NaN</td>\n",
       "      <td>NaN</td>\n",
       "      <td>NaN</td>\n",
       "      <td>NaN</td>\n",
       "      <td>0.000000</td>\n",
       "      <td>61.000000</td>\n",
       "      <td>NaN</td>\n",
       "      <td>NaN</td>\n",
       "      <td>NaN</td>\n",
       "      <td>0.382107</td>\n",
       "    </tr>\n",
       "    <tr>\n",
       "      <th>25%</th>\n",
       "      <td>NaN</td>\n",
       "      <td>NaN</td>\n",
       "      <td>NaN</td>\n",
       "      <td>NaN</td>\n",
       "      <td>NaN</td>\n",
       "      <td>14072.000000</td>\n",
       "      <td>68.000000</td>\n",
       "      <td>NaN</td>\n",
       "      <td>NaN</td>\n",
       "      <td>NaN</td>\n",
       "      <td>202.157702</td>\n",
       "    </tr>\n",
       "    <tr>\n",
       "      <th>50%</th>\n",
       "      <td>NaN</td>\n",
       "      <td>NaN</td>\n",
       "      <td>NaN</td>\n",
       "      <td>NaN</td>\n",
       "      <td>NaN</td>\n",
       "      <td>36234.000000</td>\n",
       "      <td>83.000000</td>\n",
       "      <td>NaN</td>\n",
       "      <td>NaN</td>\n",
       "      <td>NaN</td>\n",
       "      <td>354.729129</td>\n",
       "    </tr>\n",
       "    <tr>\n",
       "      <th>75%</th>\n",
       "      <td>NaN</td>\n",
       "      <td>NaN</td>\n",
       "      <td>NaN</td>\n",
       "      <td>NaN</td>\n",
       "      <td>NaN</td>\n",
       "      <td>64631.000000</td>\n",
       "      <td>109.500000</td>\n",
       "      <td>NaN</td>\n",
       "      <td>NaN</td>\n",
       "      <td>NaN</td>\n",
       "      <td>532.800000</td>\n",
       "    </tr>\n",
       "    <tr>\n",
       "      <th>max</th>\n",
       "      <td>NaN</td>\n",
       "      <td>NaN</td>\n",
       "      <td>NaN</td>\n",
       "      <td>NaN</td>\n",
       "      <td>NaN</td>\n",
       "      <td>99960.000000</td>\n",
       "      <td>35354.000000</td>\n",
       "      <td>NaN</td>\n",
       "      <td>NaN</td>\n",
       "      <td>NaN</td>\n",
       "      <td>2893.239678</td>\n",
       "    </tr>\n",
       "  </tbody>\n",
       "</table>\n",
       "</div>"
      ],
      "text/plain": [
       "       Customer      ST GENDER Education Customer Lifetime Value  \\\n",
       "count      1071    1071    954      1071                    1068   \n",
       "unique     1071       8      5         6                    1027   \n",
       "top     LN26837  Oregon      F  Bachelor              445811.34%   \n",
       "freq          1     320    457       324                       4   \n",
       "mean        NaN     NaN    NaN       NaN                     NaN   \n",
       "std         NaN     NaN    NaN       NaN                     NaN   \n",
       "min         NaN     NaN    NaN       NaN                     NaN   \n",
       "25%         NaN     NaN    NaN       NaN                     NaN   \n",
       "50%         NaN     NaN    NaN       NaN                     NaN   \n",
       "75%         NaN     NaN    NaN       NaN                     NaN   \n",
       "max         NaN     NaN    NaN       NaN                     NaN   \n",
       "\n",
       "              Income  Monthly Premium Auto Number of Open Complaints  \\\n",
       "count    1071.000000           1071.000000                      1071   \n",
       "unique           NaN                   NaN                         6   \n",
       "top              NaN                   NaN                    1/0/00   \n",
       "freq             NaN                   NaN                       830   \n",
       "mean    39295.701214            193.234360                       NaN   \n",
       "std     30469.427060           1601.190369                       NaN   \n",
       "min         0.000000             61.000000                       NaN   \n",
       "25%     14072.000000             68.000000                       NaN   \n",
       "50%     36234.000000             83.000000                       NaN   \n",
       "75%     64631.000000            109.500000                       NaN   \n",
       "max     99960.000000          35354.000000                       NaN   \n",
       "\n",
       "          Policy Type  Vehicle Class  Total Claim Amount  \n",
       "count            1071           1071         1071.000000  \n",
       "unique              3              6                 NaN  \n",
       "top     Personal Auto  Four-Door Car                 NaN  \n",
       "freq              780            576                 NaN  \n",
       "mean              NaN            NaN          404.986909  \n",
       "std               NaN            NaN          293.027260  \n",
       "min               NaN            NaN            0.382107  \n",
       "25%               NaN            NaN          202.157702  \n",
       "50%               NaN            NaN          354.729129  \n",
       "75%               NaN            NaN          532.800000  \n",
       "max               NaN            NaN         2893.239678  "
      ]
     },
     "execution_count": 5,
     "metadata": {},
     "output_type": "execute_result"
    }
   ],
   "source": [
    "file1.describe(include=\"all\")"
   ]
  },
  {
   "cell_type": "code",
   "execution_count": 6,
   "id": "adolescent-azerbaijan",
   "metadata": {},
   "outputs": [],
   "source": [
    "file2=pd.read_csv(\"file2.txt\", sep='\\t')"
   ]
  },
  {
   "cell_type": "code",
   "execution_count": 7,
   "id": "cardiac-handbook",
   "metadata": {},
   "outputs": [
    {
     "data": {
      "text/html": [
       "<div>\n",
       "<style scoped>\n",
       "    .dataframe tbody tr th:only-of-type {\n",
       "        vertical-align: middle;\n",
       "    }\n",
       "\n",
       "    .dataframe tbody tr th {\n",
       "        vertical-align: top;\n",
       "    }\n",
       "\n",
       "    .dataframe thead th {\n",
       "        text-align: right;\n",
       "    }\n",
       "</style>\n",
       "<table border=\"1\" class=\"dataframe\">\n",
       "  <thead>\n",
       "    <tr style=\"text-align: right;\">\n",
       "      <th></th>\n",
       "    </tr>\n",
       "  </thead>\n",
       "  <tbody>\n",
       "  </tbody>\n",
       "</table>\n",
       "</div>"
      ],
      "text/plain": [
       "Empty DataFrame\n",
       "Columns: []\n",
       "Index: []"
      ]
     },
     "execution_count": 7,
     "metadata": {},
     "output_type": "execute_result"
    }
   ],
   "source": [
    "df=pd.DataFrame()\n",
    "df.head(5)"
   ]
  },
  {
   "cell_type": "code",
   "execution_count": 8,
   "id": "tropical-senate",
   "metadata": {},
   "outputs": [
    {
     "data": {
      "text/html": [
       "<div>\n",
       "<style scoped>\n",
       "    .dataframe tbody tr th:only-of-type {\n",
       "        vertical-align: middle;\n",
       "    }\n",
       "\n",
       "    .dataframe tbody tr th {\n",
       "        vertical-align: top;\n",
       "    }\n",
       "\n",
       "    .dataframe thead th {\n",
       "        text-align: right;\n",
       "    }\n",
       "</style>\n",
       "<table border=\"1\" class=\"dataframe\">\n",
       "  <thead>\n",
       "    <tr style=\"text-align: right;\">\n",
       "      <th></th>\n",
       "      <th>CONTROLN</th>\n",
       "      <th>STATE</th>\n",
       "      <th>GENDER</th>\n",
       "      <th>HV1</th>\n",
       "      <th>IC1</th>\n",
       "      <th>IC4</th>\n",
       "      <th>HVP1</th>\n",
       "      <th>IC5</th>\n",
       "      <th>POBC1</th>\n",
       "      <th>POBC2</th>\n",
       "      <th>IC2</th>\n",
       "      <th>IC3</th>\n",
       "      <th>AVGGIFT</th>\n",
       "      <th>TCODE</th>\n",
       "      <th>DOB</th>\n",
       "      <th>DOMAIN</th>\n",
       "      <th>TARGET_D</th>\n",
       "    </tr>\n",
       "  </thead>\n",
       "  <tbody>\n",
       "    <tr>\n",
       "      <th>count</th>\n",
       "      <td>1015.000000</td>\n",
       "      <td>1015</td>\n",
       "      <td>985</td>\n",
       "      <td>1015.000000</td>\n",
       "      <td>1015.000000</td>\n",
       "      <td>1015.000000</td>\n",
       "      <td>1015.000000</td>\n",
       "      <td>1015.000000</td>\n",
       "      <td>1015.000000</td>\n",
       "      <td>1015.000000</td>\n",
       "      <td>1015.000000</td>\n",
       "      <td>1015.000000</td>\n",
       "      <td>1015.000000</td>\n",
       "      <td>1015.000000</td>\n",
       "      <td>1015.000000</td>\n",
       "      <td>1015</td>\n",
       "      <td>1015.000000</td>\n",
       "    </tr>\n",
       "    <tr>\n",
       "      <th>unique</th>\n",
       "      <td>NaN</td>\n",
       "      <td>42</td>\n",
       "      <td>9</td>\n",
       "      <td>NaN</td>\n",
       "      <td>NaN</td>\n",
       "      <td>NaN</td>\n",
       "      <td>NaN</td>\n",
       "      <td>NaN</td>\n",
       "      <td>NaN</td>\n",
       "      <td>NaN</td>\n",
       "      <td>NaN</td>\n",
       "      <td>NaN</td>\n",
       "      <td>NaN</td>\n",
       "      <td>NaN</td>\n",
       "      <td>NaN</td>\n",
       "      <td>17</td>\n",
       "      <td>NaN</td>\n",
       "    </tr>\n",
       "    <tr>\n",
       "      <th>top</th>\n",
       "      <td>NaN</td>\n",
       "      <td>CA</td>\n",
       "      <td>F</td>\n",
       "      <td>NaN</td>\n",
       "      <td>NaN</td>\n",
       "      <td>NaN</td>\n",
       "      <td>NaN</td>\n",
       "      <td>NaN</td>\n",
       "      <td>NaN</td>\n",
       "      <td>NaN</td>\n",
       "      <td>NaN</td>\n",
       "      <td>NaN</td>\n",
       "      <td>NaN</td>\n",
       "      <td>NaN</td>\n",
       "      <td>NaN</td>\n",
       "      <td>T2</td>\n",
       "      <td>NaN</td>\n",
       "    </tr>\n",
       "    <tr>\n",
       "      <th>freq</th>\n",
       "      <td>NaN</td>\n",
       "      <td>205</td>\n",
       "      <td>504</td>\n",
       "      <td>NaN</td>\n",
       "      <td>NaN</td>\n",
       "      <td>NaN</td>\n",
       "      <td>NaN</td>\n",
       "      <td>NaN</td>\n",
       "      <td>NaN</td>\n",
       "      <td>NaN</td>\n",
       "      <td>NaN</td>\n",
       "      <td>NaN</td>\n",
       "      <td>NaN</td>\n",
       "      <td>NaN</td>\n",
       "      <td>NaN</td>\n",
       "      <td>145</td>\n",
       "      <td>NaN</td>\n",
       "    </tr>\n",
       "    <tr>\n",
       "      <th>mean</th>\n",
       "      <td>96351.472906</td>\n",
       "      <td>NaN</td>\n",
       "      <td>NaN</td>\n",
       "      <td>1137.401970</td>\n",
       "      <td>349.104433</td>\n",
       "      <td>440.786207</td>\n",
       "      <td>15.424631</td>\n",
       "      <td>16434.610837</td>\n",
       "      <td>7.115271</td>\n",
       "      <td>55.825616</td>\n",
       "      <td>397.914286</td>\n",
       "      <td>395.131034</td>\n",
       "      <td>11.970404</td>\n",
       "      <td>95.952709</td>\n",
       "      <td>2787.850246</td>\n",
       "      <td>NaN</td>\n",
       "      <td>15.481773</td>\n",
       "    </tr>\n",
       "    <tr>\n",
       "      <th>std</th>\n",
       "      <td>57107.922941</td>\n",
       "      <td>NaN</td>\n",
       "      <td>NaN</td>\n",
       "      <td>1048.030341</td>\n",
       "      <td>172.584516</td>\n",
       "      <td>178.826938</td>\n",
       "      <td>28.600285</td>\n",
       "      <td>9695.004583</td>\n",
       "      <td>10.036399</td>\n",
       "      <td>21.376039</td>\n",
       "      <td>185.040178</td>\n",
       "      <td>167.825716</td>\n",
       "      <td>15.314822</td>\n",
       "      <td>1514.092209</td>\n",
       "      <td>2057.395908</td>\n",
       "      <td>NaN</td>\n",
       "      <td>10.591076</td>\n",
       "    </tr>\n",
       "    <tr>\n",
       "      <th>min</th>\n",
       "      <td>67.000000</td>\n",
       "      <td>NaN</td>\n",
       "      <td>NaN</td>\n",
       "      <td>0.000000</td>\n",
       "      <td>0.000000</td>\n",
       "      <td>0.000000</td>\n",
       "      <td>0.000000</td>\n",
       "      <td>0.000000</td>\n",
       "      <td>0.000000</td>\n",
       "      <td>0.000000</td>\n",
       "      <td>0.000000</td>\n",
       "      <td>0.000000</td>\n",
       "      <td>2.439815</td>\n",
       "      <td>0.000000</td>\n",
       "      <td>0.000000</td>\n",
       "      <td>NaN</td>\n",
       "      <td>1.000000</td>\n",
       "    </tr>\n",
       "    <tr>\n",
       "      <th>25%</th>\n",
       "      <td>44557.500000</td>\n",
       "      <td>NaN</td>\n",
       "      <td>NaN</td>\n",
       "      <td>532.500000</td>\n",
       "      <td>236.000000</td>\n",
       "      <td>322.000000</td>\n",
       "      <td>0.000000</td>\n",
       "      <td>11064.500000</td>\n",
       "      <td>1.000000</td>\n",
       "      <td>42.000000</td>\n",
       "      <td>282.000000</td>\n",
       "      <td>282.000000</td>\n",
       "      <td>7.107026</td>\n",
       "      <td>0.000000</td>\n",
       "      <td>1101.000000</td>\n",
       "      <td>NaN</td>\n",
       "      <td>10.000000</td>\n",
       "    </tr>\n",
       "    <tr>\n",
       "      <th>50%</th>\n",
       "      <td>96031.000000</td>\n",
       "      <td>NaN</td>\n",
       "      <td>NaN</td>\n",
       "      <td>770.000000</td>\n",
       "      <td>311.000000</td>\n",
       "      <td>399.000000</td>\n",
       "      <td>1.000000</td>\n",
       "      <td>14119.000000</td>\n",
       "      <td>3.000000</td>\n",
       "      <td>58.000000</td>\n",
       "      <td>359.000000</td>\n",
       "      <td>355.000000</td>\n",
       "      <td>10.190476</td>\n",
       "      <td>1.000000</td>\n",
       "      <td>2711.000000</td>\n",
       "      <td>NaN</td>\n",
       "      <td>14.000000</td>\n",
       "    </tr>\n",
       "    <tr>\n",
       "      <th>75%</th>\n",
       "      <td>147839.500000</td>\n",
       "      <td>NaN</td>\n",
       "      <td>NaN</td>\n",
       "      <td>1258.500000</td>\n",
       "      <td>419.500000</td>\n",
       "      <td>518.500000</td>\n",
       "      <td>12.000000</td>\n",
       "      <td>18674.500000</td>\n",
       "      <td>9.000000</td>\n",
       "      <td>73.000000</td>\n",
       "      <td>467.500000</td>\n",
       "      <td>466.000000</td>\n",
       "      <td>14.250000</td>\n",
       "      <td>2.000000</td>\n",
       "      <td>4501.000000</td>\n",
       "      <td>NaN</td>\n",
       "      <td>20.000000</td>\n",
       "    </tr>\n",
       "    <tr>\n",
       "      <th>max</th>\n",
       "      <td>191138.000000</td>\n",
       "      <td>NaN</td>\n",
       "      <td>NaN</td>\n",
       "      <td>5970.000000</td>\n",
       "      <td>1386.000000</td>\n",
       "      <td>1273.000000</td>\n",
       "      <td>99.000000</td>\n",
       "      <td>95913.000000</td>\n",
       "      <td>72.000000</td>\n",
       "      <td>96.000000</td>\n",
       "      <td>1500.000000</td>\n",
       "      <td>1208.000000</td>\n",
       "      <td>450.000000</td>\n",
       "      <td>39002.000000</td>\n",
       "      <td>9310.000000</td>\n",
       "      <td>NaN</td>\n",
       "      <td>100.000000</td>\n",
       "    </tr>\n",
       "  </tbody>\n",
       "</table>\n",
       "</div>"
      ],
      "text/plain": [
       "             CONTROLN STATE GENDER          HV1          IC1          IC4  \\\n",
       "count     1015.000000  1015    985  1015.000000  1015.000000  1015.000000   \n",
       "unique            NaN    42      9          NaN          NaN          NaN   \n",
       "top               NaN    CA      F          NaN          NaN          NaN   \n",
       "freq              NaN   205    504          NaN          NaN          NaN   \n",
       "mean     96351.472906   NaN    NaN  1137.401970   349.104433   440.786207   \n",
       "std      57107.922941   NaN    NaN  1048.030341   172.584516   178.826938   \n",
       "min         67.000000   NaN    NaN     0.000000     0.000000     0.000000   \n",
       "25%      44557.500000   NaN    NaN   532.500000   236.000000   322.000000   \n",
       "50%      96031.000000   NaN    NaN   770.000000   311.000000   399.000000   \n",
       "75%     147839.500000   NaN    NaN  1258.500000   419.500000   518.500000   \n",
       "max     191138.000000   NaN    NaN  5970.000000  1386.000000  1273.000000   \n",
       "\n",
       "               HVP1           IC5        POBC1        POBC2          IC2  \\\n",
       "count   1015.000000   1015.000000  1015.000000  1015.000000  1015.000000   \n",
       "unique          NaN           NaN          NaN          NaN          NaN   \n",
       "top             NaN           NaN          NaN          NaN          NaN   \n",
       "freq            NaN           NaN          NaN          NaN          NaN   \n",
       "mean      15.424631  16434.610837     7.115271    55.825616   397.914286   \n",
       "std       28.600285   9695.004583    10.036399    21.376039   185.040178   \n",
       "min        0.000000      0.000000     0.000000     0.000000     0.000000   \n",
       "25%        0.000000  11064.500000     1.000000    42.000000   282.000000   \n",
       "50%        1.000000  14119.000000     3.000000    58.000000   359.000000   \n",
       "75%       12.000000  18674.500000     9.000000    73.000000   467.500000   \n",
       "max       99.000000  95913.000000    72.000000    96.000000  1500.000000   \n",
       "\n",
       "                IC3      AVGGIFT         TCODE          DOB DOMAIN  \\\n",
       "count   1015.000000  1015.000000   1015.000000  1015.000000   1015   \n",
       "unique          NaN          NaN           NaN          NaN     17   \n",
       "top             NaN          NaN           NaN          NaN     T2   \n",
       "freq            NaN          NaN           NaN          NaN    145   \n",
       "mean     395.131034    11.970404     95.952709  2787.850246    NaN   \n",
       "std      167.825716    15.314822   1514.092209  2057.395908    NaN   \n",
       "min        0.000000     2.439815      0.000000     0.000000    NaN   \n",
       "25%      282.000000     7.107026      0.000000  1101.000000    NaN   \n",
       "50%      355.000000    10.190476      1.000000  2711.000000    NaN   \n",
       "75%      466.000000    14.250000      2.000000  4501.000000    NaN   \n",
       "max     1208.000000   450.000000  39002.000000  9310.000000    NaN   \n",
       "\n",
       "           TARGET_D  \n",
       "count   1015.000000  \n",
       "unique          NaN  \n",
       "top             NaN  \n",
       "freq            NaN  \n",
       "mean      15.481773  \n",
       "std       10.591076  \n",
       "min        1.000000  \n",
       "25%       10.000000  \n",
       "50%       14.000000  \n",
       "75%       20.000000  \n",
       "max      100.000000  "
      ]
     },
     "execution_count": 8,
     "metadata": {},
     "output_type": "execute_result"
    }
   ],
   "source": [
    "file2.describe(include=\"all\")"
   ]
  },
  {
   "cell_type": "code",
   "execution_count": 9,
   "id": "greatest-senator",
   "metadata": {},
   "outputs": [],
   "source": [
    "import glob"
   ]
  },
  {
   "cell_type": "code",
   "execution_count": 10,
   "id": "angry-shield",
   "metadata": {},
   "outputs": [],
   "source": [
    "df = pd.concat([pd.read_csv(f) for f in glob.glob('file*.csv')], ignore_index = True)"
   ]
  },
  {
   "cell_type": "code",
   "execution_count": 11,
   "id": "direct-vaccine",
   "metadata": {},
   "outputs": [
    {
     "data": {
      "text/plain": [
       "(12074, 13)"
      ]
     },
     "execution_count": 11,
     "metadata": {},
     "output_type": "execute_result"
    }
   ],
   "source": [
    "df.shape"
   ]
  },
  {
   "cell_type": "code",
   "execution_count": 12,
   "id": "flush-probe",
   "metadata": {},
   "outputs": [
    {
     "data": {
      "text/plain": [
       "Index(['Customer', 'ST', 'GENDER', 'Education', 'Customer Lifetime Value',\n",
       "       'Income', 'Monthly Premium Auto', 'Number of Open Complaints',\n",
       "       'Policy Type', 'Vehicle Class', 'Total Claim Amount', 'State',\n",
       "       'Gender'],\n",
       "      dtype='object')"
      ]
     },
     "execution_count": 12,
     "metadata": {},
     "output_type": "execute_result"
    }
   ],
   "source": [
    "df.columns"
   ]
  },
  {
   "cell_type": "code",
   "execution_count": 13,
   "id": "geographic-insertion",
   "metadata": {},
   "outputs": [
    {
     "data": {
      "text/plain": [
       "13"
      ]
     },
     "execution_count": 13,
     "metadata": {},
     "output_type": "execute_result"
    }
   ],
   "source": [
    "len(df.columns)"
   ]
  },
  {
   "cell_type": "code",
   "execution_count": 14,
   "id": "negative-capability",
   "metadata": {},
   "outputs": [
    {
     "data": {
      "text/plain": [
       "['customer',\n",
       " 'st',\n",
       " 'gender',\n",
       " 'education',\n",
       " 'customer lifetime value',\n",
       " 'income',\n",
       " 'monthly premium auto',\n",
       " 'number of open complaints',\n",
       " 'policy type',\n",
       " 'vehicle class',\n",
       " 'total claim amount',\n",
       " 'state',\n",
       " 'gender']"
      ]
     },
     "execution_count": 14,
     "metadata": {},
     "output_type": "execute_result"
    }
   ],
   "source": [
    "cols = []\n",
    "for i in range(len(df.columns)):\n",
    "    cols.append(df.columns[i].lower())\n",
    "cols"
   ]
  },
  {
   "cell_type": "code",
   "execution_count": 15,
   "id": "light-interstate",
   "metadata": {},
   "outputs": [],
   "source": [
    "df.columns = cols"
   ]
  },
  {
   "cell_type": "code",
   "execution_count": 16,
   "id": "perceived-comedy",
   "metadata": {},
   "outputs": [
    {
     "data": {
      "text/plain": [
       "customer                      object\n",
       "st                            object\n",
       "gender                        object\n",
       "education                     object\n",
       "customer lifetime value       object\n",
       "income                       float64\n",
       "monthly premium auto         float64\n",
       "number of open complaints     object\n",
       "policy type                   object\n",
       "vehicle class                 object\n",
       "total claim amount           float64\n",
       "state                         object\n",
       "gender                        object\n",
       "dtype: object"
      ]
     },
     "execution_count": 16,
     "metadata": {},
     "output_type": "execute_result"
    }
   ],
   "source": [
    "df.dtypes"
   ]
  },
  {
   "cell_type": "code",
   "execution_count": 17,
   "id": "outdoor-progressive",
   "metadata": {},
   "outputs": [
    {
     "data": {
      "text/plain": [
       "<bound method NDFrame.head of       customer          st gender             education  \\\n",
       "0      RB50392  Washington    NaN                Master   \n",
       "1      QZ44356     Arizona      F              Bachelor   \n",
       "2      AI49188      Nevada      F              Bachelor   \n",
       "3      WW63253  California      M              Bachelor   \n",
       "4      GA49547  Washington      M  High School or Below   \n",
       "...        ...         ...    ...                   ...   \n",
       "12069  LA72316         NaN    NaN              Bachelor   \n",
       "12070  PK87824         NaN    NaN               College   \n",
       "12071  TD14365         NaN    NaN              Bachelor   \n",
       "12072  UP19263         NaN    NaN               College   \n",
       "12073  Y167826         NaN    NaN               College   \n",
       "\n",
       "      customer lifetime value   income  monthly premium auto  \\\n",
       "0                         NaN      0.0                1000.0   \n",
       "1                  697953.59%      0.0                  94.0   \n",
       "2                 1288743.17%  48767.0                 108.0   \n",
       "3                  764586.18%      0.0                 106.0   \n",
       "4                  536307.65%  36357.0                  68.0   \n",
       "...                       ...      ...                   ...   \n",
       "12069             23405.98798  71941.0                  73.0   \n",
       "12070             3096.511217  21604.0                  79.0   \n",
       "12071             8163.890428      0.0                  85.0   \n",
       "12072             7524.442436  21941.0                  96.0   \n",
       "12073             2611.836866      0.0                  77.0   \n",
       "\n",
       "      number of open complaints     policy type  vehicle class  \\\n",
       "0                        1/0/00   Personal Auto  Four-Door Car   \n",
       "1                        1/0/00   Personal Auto  Four-Door Car   \n",
       "2                        1/0/00   Personal Auto   Two-Door Car   \n",
       "3                        1/0/00  Corporate Auto            SUV   \n",
       "4                        1/0/00   Personal Auto  Four-Door Car   \n",
       "...                         ...             ...            ...   \n",
       "12069                         0   Personal Auto  Four-Door Car   \n",
       "12070                         0  Corporate Auto  Four-Door Car   \n",
       "12071                         3  Corporate Auto  Four-Door Car   \n",
       "12072                         0   Personal Auto  Four-Door Car   \n",
       "12073                         0  Corporate Auto   Two-Door Car   \n",
       "\n",
       "       total claim amount       state gender  \n",
       "0                2.704934         NaN    NaN  \n",
       "1             1131.464935         NaN    NaN  \n",
       "2              566.472247         NaN    NaN  \n",
       "3              529.881344         NaN    NaN  \n",
       "4               17.269323         NaN    NaN  \n",
       "...                   ...         ...    ...  \n",
       "12069          198.234764  California      M  \n",
       "12070          379.200000  California      F  \n",
       "12071          790.784983  California      M  \n",
       "12072          691.200000  California      M  \n",
       "12073          369.600000  California      M  \n",
       "\n",
       "[12074 rows x 13 columns]>"
      ]
     },
     "execution_count": 17,
     "metadata": {},
     "output_type": "execute_result"
    }
   ],
   "source": [
    "df.head"
   ]
  },
  {
   "cell_type": "code",
   "execution_count": 18,
   "id": "standing-instrument",
   "metadata": {},
   "outputs": [],
   "source": [
    "numerics = ['int16', 'int32', 'int64', 'float16', 'float32', 'float64']\n",
    "\n",
    "newdf = df.select_dtypes(include=numerics)"
   ]
  },
  {
   "cell_type": "code",
   "execution_count": 19,
   "id": "circular-bacon",
   "metadata": {},
   "outputs": [
    {
     "data": {
      "text/plain": [
       "<bound method NDFrame.head of         income  monthly premium auto  total claim amount\n",
       "0          0.0                1000.0            2.704934\n",
       "1          0.0                  94.0         1131.464935\n",
       "2      48767.0                 108.0          566.472247\n",
       "3          0.0                 106.0          529.881344\n",
       "4      36357.0                  68.0           17.269323\n",
       "...        ...                   ...                 ...\n",
       "12069  71941.0                  73.0          198.234764\n",
       "12070  21604.0                  79.0          379.200000\n",
       "12071      0.0                  85.0          790.784983\n",
       "12072  21941.0                  96.0          691.200000\n",
       "12073      0.0                  77.0          369.600000\n",
       "\n",
       "[12074 rows x 3 columns]>"
      ]
     },
     "execution_count": 19,
     "metadata": {},
     "output_type": "execute_result"
    }
   ],
   "source": [
    "newdf.head"
   ]
  },
  {
   "cell_type": "code",
   "execution_count": 20,
   "id": "bright-value",
   "metadata": {},
   "outputs": [],
   "source": [
    "categories = ['object']\n",
    "\n",
    "newdf = df.select_dtypes(include=categories)"
   ]
  },
  {
   "cell_type": "code",
   "execution_count": 21,
   "id": "common-gibraltar",
   "metadata": {},
   "outputs": [
    {
     "data": {
      "text/plain": [
       "<bound method NDFrame.head of       customer          st gender             education  \\\n",
       "0      RB50392  Washington    NaN                Master   \n",
       "1      QZ44356     Arizona      F              Bachelor   \n",
       "2      AI49188      Nevada      F              Bachelor   \n",
       "3      WW63253  California      M              Bachelor   \n",
       "4      GA49547  Washington      M  High School or Below   \n",
       "...        ...         ...    ...                   ...   \n",
       "12069  LA72316         NaN    NaN              Bachelor   \n",
       "12070  PK87824         NaN    NaN               College   \n",
       "12071  TD14365         NaN    NaN              Bachelor   \n",
       "12072  UP19263         NaN    NaN               College   \n",
       "12073  Y167826         NaN    NaN               College   \n",
       "\n",
       "      customer lifetime value number of open complaints     policy type  \\\n",
       "0                         NaN                    1/0/00   Personal Auto   \n",
       "1                  697953.59%                    1/0/00   Personal Auto   \n",
       "2                 1288743.17%                    1/0/00   Personal Auto   \n",
       "3                  764586.18%                    1/0/00  Corporate Auto   \n",
       "4                  536307.65%                    1/0/00   Personal Auto   \n",
       "...                       ...                       ...             ...   \n",
       "12069             23405.98798                         0   Personal Auto   \n",
       "12070             3096.511217                         0  Corporate Auto   \n",
       "12071             8163.890428                         3  Corporate Auto   \n",
       "12072             7524.442436                         0   Personal Auto   \n",
       "12073             2611.836866                         0  Corporate Auto   \n",
       "\n",
       "       vehicle class       state gender  \n",
       "0      Four-Door Car         NaN    NaN  \n",
       "1      Four-Door Car         NaN    NaN  \n",
       "2       Two-Door Car         NaN    NaN  \n",
       "3                SUV         NaN    NaN  \n",
       "4      Four-Door Car         NaN    NaN  \n",
       "...              ...         ...    ...  \n",
       "12069  Four-Door Car  California      M  \n",
       "12070  Four-Door Car  California      F  \n",
       "12071  Four-Door Car  California      M  \n",
       "12072  Four-Door Car  California      M  \n",
       "12073   Two-Door Car  California      M  \n",
       "\n",
       "[12074 rows x 10 columns]>"
      ]
     },
     "execution_count": 21,
     "metadata": {},
     "output_type": "execute_result"
    }
   ],
   "source": [
    "newdf.head"
   ]
  },
  {
   "cell_type": "code",
   "execution_count": 22,
   "id": "brave-backup",
   "metadata": {},
   "outputs": [],
   "source": [
    "df = df.drop(['education'],axis=1)"
   ]
  },
  {
   "cell_type": "code",
   "execution_count": 23,
   "id": "unlimited-protein",
   "metadata": {},
   "outputs": [
    {
     "data": {
      "text/plain": [
       "<bound method NDFrame.head of       customer          st gender customer lifetime value   income  \\\n",
       "0      RB50392  Washington    NaN                     NaN      0.0   \n",
       "1      QZ44356     Arizona      F              697953.59%      0.0   \n",
       "2      AI49188      Nevada      F             1288743.17%  48767.0   \n",
       "3      WW63253  California      M              764586.18%      0.0   \n",
       "4      GA49547  Washington      M              536307.65%  36357.0   \n",
       "...        ...         ...    ...                     ...      ...   \n",
       "12069  LA72316         NaN    NaN             23405.98798  71941.0   \n",
       "12070  PK87824         NaN    NaN             3096.511217  21604.0   \n",
       "12071  TD14365         NaN    NaN             8163.890428      0.0   \n",
       "12072  UP19263         NaN    NaN             7524.442436  21941.0   \n",
       "12073  Y167826         NaN    NaN             2611.836866      0.0   \n",
       "\n",
       "       monthly premium auto number of open complaints     policy type  \\\n",
       "0                    1000.0                    1/0/00   Personal Auto   \n",
       "1                      94.0                    1/0/00   Personal Auto   \n",
       "2                     108.0                    1/0/00   Personal Auto   \n",
       "3                     106.0                    1/0/00  Corporate Auto   \n",
       "4                      68.0                    1/0/00   Personal Auto   \n",
       "...                     ...                       ...             ...   \n",
       "12069                  73.0                         0   Personal Auto   \n",
       "12070                  79.0                         0  Corporate Auto   \n",
       "12071                  85.0                         3  Corporate Auto   \n",
       "12072                  96.0                         0   Personal Auto   \n",
       "12073                  77.0                         0  Corporate Auto   \n",
       "\n",
       "       vehicle class  total claim amount       state gender  \n",
       "0      Four-Door Car            2.704934         NaN    NaN  \n",
       "1      Four-Door Car         1131.464935         NaN    NaN  \n",
       "2       Two-Door Car          566.472247         NaN    NaN  \n",
       "3                SUV          529.881344         NaN    NaN  \n",
       "4      Four-Door Car           17.269323         NaN    NaN  \n",
       "...              ...                 ...         ...    ...  \n",
       "12069  Four-Door Car          198.234764  California      M  \n",
       "12070  Four-Door Car          379.200000  California      F  \n",
       "12071  Four-Door Car          790.784983  California      M  \n",
       "12072  Four-Door Car          691.200000  California      M  \n",
       "12073   Two-Door Car          369.600000  California      M  \n",
       "\n",
       "[12074 rows x 12 columns]>"
      ]
     },
     "execution_count": 23,
     "metadata": {},
     "output_type": "execute_result"
    }
   ],
   "source": [
    "df.head"
   ]
  },
  {
   "cell_type": "code",
   "execution_count": 24,
   "id": "engaging-auction",
   "metadata": {},
   "outputs": [],
   "source": [
    "df = df.drop(['number of open complaints'],axis=1)"
   ]
  },
  {
   "cell_type": "code",
   "execution_count": 25,
   "id": "helpful-packing",
   "metadata": {},
   "outputs": [
    {
     "data": {
      "text/plain": [
       "<bound method NDFrame.head of       customer          st gender customer lifetime value   income  \\\n",
       "0      RB50392  Washington    NaN                     NaN      0.0   \n",
       "1      QZ44356     Arizona      F              697953.59%      0.0   \n",
       "2      AI49188      Nevada      F             1288743.17%  48767.0   \n",
       "3      WW63253  California      M              764586.18%      0.0   \n",
       "4      GA49547  Washington      M              536307.65%  36357.0   \n",
       "...        ...         ...    ...                     ...      ...   \n",
       "12069  LA72316         NaN    NaN             23405.98798  71941.0   \n",
       "12070  PK87824         NaN    NaN             3096.511217  21604.0   \n",
       "12071  TD14365         NaN    NaN             8163.890428      0.0   \n",
       "12072  UP19263         NaN    NaN             7524.442436  21941.0   \n",
       "12073  Y167826         NaN    NaN             2611.836866      0.0   \n",
       "\n",
       "       monthly premium auto     policy type  vehicle class  \\\n",
       "0                    1000.0   Personal Auto  Four-Door Car   \n",
       "1                      94.0   Personal Auto  Four-Door Car   \n",
       "2                     108.0   Personal Auto   Two-Door Car   \n",
       "3                     106.0  Corporate Auto            SUV   \n",
       "4                      68.0   Personal Auto  Four-Door Car   \n",
       "...                     ...             ...            ...   \n",
       "12069                  73.0   Personal Auto  Four-Door Car   \n",
       "12070                  79.0  Corporate Auto  Four-Door Car   \n",
       "12071                  85.0  Corporate Auto  Four-Door Car   \n",
       "12072                  96.0   Personal Auto  Four-Door Car   \n",
       "12073                  77.0  Corporate Auto   Two-Door Car   \n",
       "\n",
       "       total claim amount       state gender  \n",
       "0                2.704934         NaN    NaN  \n",
       "1             1131.464935         NaN    NaN  \n",
       "2              566.472247         NaN    NaN  \n",
       "3              529.881344         NaN    NaN  \n",
       "4               17.269323         NaN    NaN  \n",
       "...                   ...         ...    ...  \n",
       "12069          198.234764  California      M  \n",
       "12070          379.200000  California      F  \n",
       "12071          790.784983  California      M  \n",
       "12072          691.200000  California      M  \n",
       "12073          369.600000  California      M  \n",
       "\n",
       "[12074 rows x 11 columns]>"
      ]
     },
     "execution_count": 25,
     "metadata": {},
     "output_type": "execute_result"
    }
   ],
   "source": [
    "df.head"
   ]
  },
  {
   "cell_type": "code",
   "execution_count": 26,
   "id": "collectible-addiction",
   "metadata": {
    "scrolled": false
   },
   "outputs": [
    {
     "data": {
      "text/plain": [
       "0                NaN\n",
       "1         697953.59%\n",
       "2        1288743.17%\n",
       "3         764586.18%\n",
       "4         536307.65%\n",
       "            ...     \n",
       "12069    23405.98798\n",
       "12070    3096.511217\n",
       "12071    8163.890428\n",
       "12072    7524.442436\n",
       "12073    2611.836866\n",
       "Name: customer lifetime value, Length: 12074, dtype: object"
      ]
     },
     "execution_count": 26,
     "metadata": {},
     "output_type": "execute_result"
    }
   ],
   "source": [
    "df['customer lifetime value']"
   ]
  },
  {
   "cell_type": "code",
   "execution_count": 27,
   "id": "statewide-spoke",
   "metadata": {},
   "outputs": [
    {
     "name": "stderr",
     "output_type": "stream",
     "text": [
      "/usr/local/lib/python3.7/dist-packages/ipykernel_launcher.py:1: SettingWithCopyWarning: \n",
      "A value is trying to be set on a copy of a slice from a DataFrame.\n",
      "Try using .loc[row_indexer,col_indexer] = value instead\n",
      "\n",
      "See the caveats in the documentation: https://pandas.pydata.org/pandas-docs/stable/user_guide/indexing.html#returning-a-view-versus-a-copy\n",
      "  \"\"\"Entry point for launching an IPython kernel.\n"
     ]
    }
   ],
   "source": [
    "df['customer lifetime value'] =  pd.to_numeric(df['customer lifetime value'], errors='coerce')"
   ]
  },
  {
   "cell_type": "code",
   "execution_count": 28,
   "id": "removed-growing",
   "metadata": {},
   "outputs": [
    {
     "name": "stderr",
     "output_type": "stream",
     "text": [
      "/usr/local/lib/python3.7/dist-packages/ipykernel_launcher.py:1: SettingWithCopyWarning: \n",
      "A value is trying to be set on a copy of a slice from a DataFrame.\n",
      "Try using .loc[row_indexer,col_indexer] = value instead\n",
      "\n",
      "See the caveats in the documentation: https://pandas.pydata.org/pandas-docs/stable/user_guide/indexing.html#returning-a-view-versus-a-copy\n",
      "  \"\"\"Entry point for launching an IPython kernel.\n"
     ]
    }
   ],
   "source": [
    "df['customer lifetime value'] = df['customer lifetime value']*100"
   ]
  },
  {
   "cell_type": "code",
   "execution_count": 29,
   "id": "extreme-kernel",
   "metadata": {},
   "outputs": [
    {
     "data": {
      "text/plain": [
       "0                 NaN\n",
       "1                 NaN\n",
       "2                 NaN\n",
       "3                 NaN\n",
       "4                 NaN\n",
       "             ...     \n",
       "12069    2.340599e+06\n",
       "12070    3.096511e+05\n",
       "12071    8.163890e+05\n",
       "12072    7.524442e+05\n",
       "12073    2.611837e+05\n",
       "Name: customer lifetime value, Length: 12074, dtype: float64"
      ]
     },
     "execution_count": 29,
     "metadata": {},
     "output_type": "execute_result"
    }
   ],
   "source": [
    "df['customer lifetime value']"
   ]
  },
  {
   "cell_type": "code",
   "execution_count": 30,
   "id": "thrown-worthy",
   "metadata": {},
   "outputs": [
    {
     "name": "stderr",
     "output_type": "stream",
     "text": [
      "/usr/local/lib/python3.7/dist-packages/ipykernel_launcher.py:1: SettingWithCopyWarning: \n",
      "A value is trying to be set on a copy of a slice from a DataFrame.\n",
      "Try using .loc[row_indexer,col_indexer] = value instead\n",
      "\n",
      "See the caveats in the documentation: https://pandas.pydata.org/pandas-docs/stable/user_guide/indexing.html#returning-a-view-versus-a-copy\n",
      "  \"\"\"Entry point for launching an IPython kernel.\n"
     ]
    }
   ],
   "source": [
    "df['customer lifetime value'] = pd.to_numeric(df['customer lifetime value'])"
   ]
  },
  {
   "cell_type": "code",
   "execution_count": null,
   "id": "confused-methodology",
   "metadata": {},
   "outputs": [],
   "source": []
  }
 ],
 "metadata": {
  "kernelspec": {
   "display_name": "Python 3",
   "language": "python",
   "name": "python3"
  },
  "language_info": {
   "codemirror_mode": {
    "name": "ipython",
    "version": 3
   },
   "file_extension": ".py",
   "mimetype": "text/x-python",
   "name": "python",
   "nbconvert_exporter": "python",
   "pygments_lexer": "ipython3",
   "version": "3.7.3"
  }
 },
 "nbformat": 4,
 "nbformat_minor": 5
}
